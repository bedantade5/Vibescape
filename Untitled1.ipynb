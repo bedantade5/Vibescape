{
 "cells": [
  {
   "cell_type": "code",
   "execution_count": 1,
   "id": "79e7cb66-570e-47dc-92c0-9b6a1b56e605",
   "metadata": {},
   "outputs": [
    {
     "name": "stdout",
     "output_type": "stream",
     "text": [
      "   Unnamed: 0                track_id                 artists  \\\n",
      "0           0  5SuOikwiRyPMVoIQDJUgSV             Gen Hoshino   \n",
      "1           1  4qPNDBW1i3p13qLCt0Ki3A            Ben Woodward   \n",
      "2           2  1iJBSr7s7jYXzM8EGcbK5b  Ingrid Michaelson;ZAYN   \n",
      "3           3  6lfxq3CG4xtTiEg7opyCyx            Kina Grannis   \n",
      "4           4  5vjLSffimiIP26QG5WcN2K        Chord Overstreet   \n",
      "\n",
      "                                          album_name  \\\n",
      "0                                             Comedy   \n",
      "1                                   Ghost (Acoustic)   \n",
      "2                                     To Begin Again   \n",
      "3  Crazy Rich Asians (Original Motion Picture Sou...   \n",
      "4                                            Hold On   \n",
      "\n",
      "                   track_name  popularity  duration_ms  explicit  \\\n",
      "0                      Comedy          73       230666     False   \n",
      "1            Ghost - Acoustic          55       149610     False   \n",
      "2              To Begin Again          57       210826     False   \n",
      "3  Can't Help Falling In Love          71       201933     False   \n",
      "4                     Hold On          82       198853     False   \n",
      "\n",
      "   danceability  energy  ...  mode  speechiness  acousticness  \\\n",
      "0         0.676  0.4610  ...     0       0.1430        0.0322   \n",
      "1         0.420  0.1660  ...     1       0.0763        0.9240   \n",
      "2         0.438  0.3590  ...     1       0.0557        0.2100   \n",
      "3         0.266  0.0596  ...     1       0.0363        0.9050   \n",
      "4         0.618  0.4430  ...     1       0.0526        0.4690   \n",
      "\n",
      "   instrumentalness  liveness  valence    tempo  time_signature  track_genre  \\\n",
      "0          0.000001    0.3580    0.715   87.917               4     acoustic   \n",
      "1          0.000006    0.1010    0.267   77.489               4     acoustic   \n",
      "2          0.000000    0.1170    0.120   76.332               4     acoustic   \n",
      "3          0.000071    0.1320    0.143  181.740               3     acoustic   \n",
      "4          0.000000    0.0829    0.167  119.949               4     acoustic   \n",
      "\n",
      "      mood  \n",
      "0  relaxed  \n",
      "1  relaxed  \n",
      "2  relaxed  \n",
      "3  relaxed  \n",
      "4  relaxed  \n",
      "\n",
      "[5 rows x 22 columns]\n"
     ]
    }
   ],
   "source": [
    "import pandas as pd\n",
    "df = pd.read_csv('processed_music_data.csv')\n",
    "print(df.head())\n"
   ]
  },
  {
   "cell_type": "code",
   "execution_count": null,
   "id": "964b20d7-9107-40e0-a6e2-57b6c37f6277",
   "metadata": {},
   "outputs": [],
   "source": []
  }
 ],
 "metadata": {
  "kernelspec": {
   "display_name": "Python 3 (ipykernel)",
   "language": "python",
   "name": "python3"
  },
  "language_info": {
   "codemirror_mode": {
    "name": "ipython",
    "version": 3
   },
   "file_extension": ".py",
   "mimetype": "text/x-python",
   "name": "python",
   "nbconvert_exporter": "python",
   "pygments_lexer": "ipython3",
   "version": "3.11.7"
  }
 },
 "nbformat": 4,
 "nbformat_minor": 5
}
